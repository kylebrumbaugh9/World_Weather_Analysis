{
 "cells": [
  {
   "cell_type": "code",
   "execution_count": 1,
   "id": "c5a14ff4",
   "metadata": {},
   "outputs": [],
   "source": [
    "import random\n"
   ]
  },
  {
   "cell_type": "code",
   "execution_count": 2,
   "id": "2d35064d",
   "metadata": {},
   "outputs": [
    {
     "data": {
      "text/plain": [
       "0.005242019599989378"
      ]
     },
     "execution_count": 2,
     "metadata": {},
     "output_type": "execute_result"
    }
   ],
   "source": [
    "random.random()"
   ]
  },
  {
   "cell_type": "code",
   "execution_count": 3,
   "id": "45759232",
   "metadata": {},
   "outputs": [],
   "source": [
    "x = 1\n",
    "latitudes = []\n",
    "while x < 11:\n",
    "    random_lat = random.randint(-90, 89) + random.random()\n",
    "    latitudes.append(random_lat)\n",
    "    x += 1\n",
    "    \n",
    "    "
   ]
  },
  {
   "cell_type": "code",
   "execution_count": 4,
   "id": "eeb12a6f",
   "metadata": {},
   "outputs": [
    {
     "data": {
      "text/plain": [
       "6.248444673093145"
      ]
     },
     "execution_count": 4,
     "metadata": {},
     "output_type": "execute_result"
    }
   ],
   "source": [
    "random_lat"
   ]
  },
  {
   "cell_type": "code",
   "execution_count": 5,
   "id": "86c1d7d8",
   "metadata": {},
   "outputs": [
    {
     "data": {
      "text/plain": [
       "[-8.214611004026807,\n",
       " 6.766618657040602,\n",
       " 33.89345594097262,\n",
       " -63.26010104817576,\n",
       " 36.822547150469944,\n",
       " 22.060536831829506,\n",
       " 15.137455179493605,\n",
       " 3.204561725262078,\n",
       " -49.6992828945878,\n",
       " 6.248444673093145]"
      ]
     },
     "execution_count": 5,
     "metadata": {},
     "output_type": "execute_result"
    }
   ],
   "source": [
    "latitudes"
   ]
  },
  {
   "cell_type": "code",
   "execution_count": 6,
   "id": "376508b9",
   "metadata": {},
   "outputs": [],
   "source": [
    "import numpy as np"
   ]
  },
  {
   "cell_type": "code",
   "execution_count": 7,
   "id": "01b49af1",
   "metadata": {},
   "outputs": [
    {
     "data": {
      "text/plain": [
       "8.45004568450021"
      ]
     },
     "execution_count": 7,
     "metadata": {},
     "output_type": "execute_result"
    }
   ],
   "source": [
    "np.random.uniform(-90.000, 90.000)"
   ]
  },
  {
   "cell_type": "code",
   "execution_count": 8,
   "id": "9508a1f5",
   "metadata": {},
   "outputs": [
    {
     "data": {
      "text/plain": [
       "array([ 24.01610788, -20.46842279, -28.8166988 ,  62.61384872,\n",
       "        75.84668059,  21.84603883, -30.08410242,  10.92695403,\n",
       "        42.78503284,  23.88680337,  -7.99020613,  88.49596025,\n",
       "       -30.45174687,  16.82992604, -18.89440628, -38.96971973,\n",
       "       -73.02911711,  10.88796236,  85.22695612,  38.92304799,\n",
       "       -29.61612119, -47.45513036,  44.23635232,  52.33632343,\n",
       "        64.54366823,  67.77198856,  74.37264281,  53.49243989,\n",
       "        51.49569248, -14.36958578,  67.36750503,  86.38766865,\n",
       "       -14.4623543 , -52.09851503,  64.16774972,  50.32068116,\n",
       "       -39.82410338,  56.31253782,  16.51042221, -88.32690481,\n",
       "        34.60460575,  63.05950521,  54.33973513,  -2.81686868,\n",
       "        64.91162004, -85.11898525, -23.07253703,  77.41308563,\n",
       "        12.94828451, -79.27519282])"
      ]
     },
     "execution_count": 8,
     "metadata": {},
     "output_type": "execute_result"
    }
   ],
   "source": [
    "np.random.uniform(-90.000, 90.000, size=50)"
   ]
  },
  {
   "cell_type": "code",
   "execution_count": 9,
   "id": "a498d2fb",
   "metadata": {},
   "outputs": [],
   "source": [
    "import timeit"
   ]
  },
  {
   "cell_type": "code",
   "execution_count": 10,
   "id": "1d690b91",
   "metadata": {},
   "outputs": [
    {
     "name": "stdout",
     "output_type": "stream",
     "text": [
      "12.6 µs ± 83 ns per loop (mean ± std. dev. of 7 runs, 100000 loops each)\n"
     ]
    }
   ],
   "source": [
    "%timeit np.random.uniform(-90.000, 90.000, size=1500)"
   ]
  },
  {
   "cell_type": "code",
   "execution_count": 11,
   "id": "6b16e045",
   "metadata": {},
   "outputs": [
    {
     "name": "stdout",
     "output_type": "stream",
     "text": [
      "1.59 ms ± 4.65 µs per loop (mean ± std. dev. of 7 runs, 1000 loops each)\n"
     ]
    }
   ],
   "source": [
    "def latitudes(size):\n",
    "    latitudes = []\n",
    "    x = 0\n",
    "    while x < (size):\n",
    "        random_lat = random.randint(-90, 90) + random.random()\n",
    "        latitudes.append(random_lat)\n",
    "        x += 1\n",
    "    return latitudes\n",
    "# Call the function with 1500.\n",
    "%timeit latitudes(1500)"
   ]
  },
  {
   "cell_type": "code",
   "execution_count": null,
   "id": "dd695ee3",
   "metadata": {},
   "outputs": [],
   "source": []
  }
 ],
 "metadata": {
  "kernelspec": {
   "display_name": "PythonData",
   "language": "python",
   "name": "pythondata"
  },
  "language_info": {
   "codemirror_mode": {
    "name": "ipython",
    "version": 3
   },
   "file_extension": ".py",
   "mimetype": "text/x-python",
   "name": "python",
   "nbconvert_exporter": "python",
   "pygments_lexer": "ipython3",
   "version": "3.7.13"
  }
 },
 "nbformat": 4,
 "nbformat_minor": 5
}
